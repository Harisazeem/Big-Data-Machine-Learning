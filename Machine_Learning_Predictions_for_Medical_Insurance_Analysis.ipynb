{
  "nbformat": 4,
  "nbformat_minor": 0,
  "metadata": {
    "colab": {
      "provenance": []
    },
    "kernelspec": {
      "name": "python3",
      "display_name": "Python 3"
    },
    "language_info": {
      "name": "python"
    }
  },
  "cells": [
    {
      "cell_type": "markdown",
      "source": [
        "Name: Haris Azeem Yar Khan\n",
        "\n",
        "SUID: 595786009"
      ],
      "metadata": {
        "id": "2i9feybmTkum"
      }
    },
    {
      "cell_type": "markdown",
      "source": [
        "## Medical Insurance Analysis\n",
        "This ML based analysis uses a medical insurance dataset with the following columns:\n",
        "- **age**: Age of primary beneficiary\n",
        "- **sex**: Female/Male\n",
        "- **bmi**: Body mass index, providing an understanding of body weight relative to height, objective index of body weight (kg / m ^ 2) using the ratio of height to weight, ideally 18.5 to 24.9\n",
        "- **children**: Number of children covered by health insurance / Number of dependents\n",
        "- **smoker**: Is a smoker — yes/no\n",
        "- **region**: The beneficiary's residential area in the US — northeast, southeast, southwest, northwest.\n",
        "- **charges**: Individual medical costs billed by health insurance"
      ],
      "metadata": {
        "id": "oe-uzfEDYpUu"
      }
    },
    {
      "cell_type": "markdown",
      "source": [
        "## Setup"
      ],
      "metadata": {
        "id": "XMhlq-j15puN"
      }
    },
    {
      "cell_type": "code",
      "source": [
        "! pip install pyspark -q"
      ],
      "metadata": {
        "id": "uUjg3KNnWWqr"
      },
      "execution_count": null,
      "outputs": []
    },
    {
      "cell_type": "code",
      "source": [
        "# download the insurance data set\n",
        "%%bash\n",
        "if [[ ! -f insurance.csv ]]; then\n",
        " wget https://syr-bda.s3.us-east-2.amazonaws.com/insurance.csv -q\n",
        "fi"
      ],
      "metadata": {
        "id": "ViSlWBg3JkBU"
      },
      "execution_count": null,
      "outputs": []
    },
    {
      "cell_type": "code",
      "source": [
        "from pyspark.sql import SparkSession\n",
        "from pyspark import SparkContext\n",
        "\n",
        "sc = SparkContext.getOrCreate()\n",
        "\n",
        "spark = SparkSession\\\n",
        "    .builder\\\n",
        "    .appName('Homework 03')\\\n",
        "    .getOrCreate()"
      ],
      "metadata": {
        "id": "M4RbOhX6Wbaz"
      },
      "execution_count": null,
      "outputs": []
    },
    {
      "cell_type": "markdown",
      "source": [
        "## Data Exploration"
      ],
      "metadata": {
        "id": "a0r1fyUqYdYZ"
      }
    },
    {
      "cell_type": "markdown",
      "source": [
        "Read the data into a Spark DataFrame named `insurance`. Column names should be age, sex, bmi, children, smoker, region, and charges. Print the resulting DataFrame schema and shape (number of rows, number of columns). Verify your schema makes sense. If the schema does not makes sense, fix it."
      ],
      "metadata": {
        "id": "2H5WOEsuHxND"
      }
    },
    {
      "cell_type": "code",
      "source": [
        "insurance = spark.read.csv(\"insurance.csv\", header=True, inferSchema=True)\n",
        "print(\"Schema:\")\n",
        "insurance.printSchema()\n",
        "\n",
        "print(\"\\nShape:\")\n",
        "print((insurance.count(), len(insurance.columns)))\n",
        "\n",
        "insurance.columns"
      ],
      "metadata": {
        "id": "KZTHlfxkLMwB"
      },
      "execution_count": null,
      "outputs": []
    },
    {
      "cell_type": "markdown",
      "source": [
        "### Calculating correlations"
      ],
      "metadata": {
        "id": "NoiGJuK7McCn"
      }
    },
    {
      "cell_type": "code",
      "source": [
        "from pyspark.sql import functions as fn\n",
        "\n",
        "insurance.select(fn.corr('age', 'charges'),\n",
        "                   fn.corr('sex', 'charges'),\n",
        "                   fn.corr('bmi', 'charges'),\n",
        "                   fn.corr('children', 'charges'),\n",
        "                   fn.corr('smoker', 'charges'),\\\n",
        "                   fn.corr('region', 'charges'))\\\n",
        "                   .show()"
      ],
      "metadata": {
        "id": "eRC5OX7xOw_B",
        "colab": {
          "base_uri": "https://localhost:8080/"
        },
        "outputId": "f63c4fd4-eae7-4ff4-8e5e-c6979491a1a8"
      },
      "execution_count": null,
      "outputs": [
        {
          "output_type": "stream",
          "name": "stdout",
          "text": [
            "+------------------+------------------+-------------------+-----------------------+---------------------+---------------------+\n",
            "|corr(age, charges)|corr(sex, charges)| corr(bmi, charges)|corr(children, charges)|corr(smoker, charges)|corr(region, charges)|\n",
            "+------------------+------------------+-------------------+-----------------------+---------------------+---------------------+\n",
            "| 0.299008193330648|              NULL|0.19834096883362903|    0.06799822684790492|                 NULL|                 NULL|\n",
            "+------------------+------------------+-------------------+-----------------------+---------------------+---------------------+\n",
            "\n"
          ]
        }
      ]
    },
    {
      "cell_type": "markdown",
      "source": [
        "*Correlation between age and charges us approximately 0.299. This indicates a moderate positive correlation between age and charges. In other words, as age increases, charges tend to increase as well. However, it's not a very strong correlation.\n",
        "\n",
        "Correlation between BMI and charges is approximately 0.198. This indicates a weak positive correlation between BMI and charges. As BMI increases, charges tend to increase slightly, but the correlation is not very strong.\n",
        "\n",
        "Correlation between children and charges is approximately 0.068. This indicates a very weak positive correlation between the number of children and charges. The correlation is quite low, suggesting that the number of children has minimal impact on charges.*"
      ],
      "metadata": {
        "id": "oPTiSoUZr6-M"
      }
    },
    {
      "cell_type": "markdown",
      "source": [
        "##Summary Plots"
      ],
      "metadata": {
        "id": "_7sUUDg_P2Mb"
      }
    },
    {
      "cell_type": "code",
      "source": [
        "# Plot 1: Distribution of Charges by Smoking Status and Age Group\n",
        "charges_age_group = insurance.withColumn('age_group',\n",
        "                                         fn.when(fn.col('age') < 30, '< 30')\n",
        "                                         .when((fn.col('age') >= 30) & (fn.col('age') < 50), '30 - 49')\n",
        "                                         .otherwise('50+'))\n",
        "\n",
        "charges_age_group_stats = charges_age_group.groupBy('smoker', 'age_group') \\\n",
        "    .agg(fn.expr('percentile_approx(charges, 0.25)').alias('q1'),\n",
        "         fn.expr('percentile_approx(charges, 0.5)').alias('median'),\n",
        "         fn.expr('percentile_approx(charges, 0.75)').alias('q3')) \\\n",
        "    .orderBy('smoker', 'age_group')\n",
        "\n",
        "charges_age_group_stats.show()"
      ],
      "metadata": {
        "id": "nGsHMYjoRkIJ",
        "colab": {
          "base_uri": "https://localhost:8080/"
        },
        "outputId": "f6ef0bc5-ac7c-443a-d1cd-cacadafdc92d"
      },
      "execution_count": null,
      "outputs": [
        {
          "output_type": "stream",
          "name": "stdout",
          "text": [
            "+------+---------+-----------+-----------+-----------+\n",
            "|smoker|age_group|         q1|     median|         q3|\n",
            "+------+---------+-----------+-----------+-----------+\n",
            "|    no|  30 - 49|  5438.7491|   7045.499|  8534.6718|\n",
            "|    no|      50+| 10797.3362| 12029.2867|13607.36875|\n",
            "|    no|     < 30|  1917.3184|  2709.1119|  3925.7582|\n",
            "|   yes|  30 - 49|20773.62775|35069.37452|  40182.246|\n",
            "|   yes|      50+|27218.43725| 43578.9394|  47291.055|\n",
            "|   yes|     < 30|   17081.08|33475.81715| 36149.4835|\n",
            "+------+---------+-----------+-----------+-----------+\n",
            "\n"
          ]
        }
      ]
    },
    {
      "cell_type": "markdown",
      "source": [
        "The results reveal stark differences in healthcare charges between smokers and non-smokers across age groups. Smokers exhibit substantially higher charges, even among younger individuals. Charges escalate with age, particularly for smokers, emphasizing the long-term financial impact of smoking-related health issues. These findings underscore the urgency of effective smoking cessation interventions to mitigate healthcare expenses and improve public health outcomes."
      ],
      "metadata": {
        "id": "PZsmhls8RlRJ"
      }
    },
    {
      "cell_type": "code",
      "source": [
        "bmi_region_smoker_stats = insurance.groupBy('region', 'smoker') \\\n",
        "    .agg(fn.expr('percentile_approx(bmi, 0.25)').alias('q1'),\n",
        "         fn.expr('percentile_approx(bmi, 0.5)').alias('median'),\n",
        "         fn.expr('percentile_approx(bmi, 0.75)').alias('q3')) \\\n",
        "    .orderBy('region', 'smoker')\n",
        "\n",
        "bmi_region_smoker_stats.show()"
      ],
      "metadata": {
        "id": "l7If_IFlRwG8",
        "colab": {
          "base_uri": "https://localhost:8080/"
        },
        "outputId": "56fe3c84-6f3f-423e-ba31-6dc50b1fc245"
      },
      "execution_count": null,
      "outputs": [
        {
          "output_type": "stream",
          "name": "stdout",
          "text": [
            "+---------+------+------+------+------+\n",
            "|   region|smoker|    q1|median|    q3|\n",
            "+---------+------+------+------+------+\n",
            "|northeast|    no|25.175| 28.88|32.965|\n",
            "|northeast|   yes| 23.37|  28.5|32.775|\n",
            "|northwest|    no|25.555|29.355|32.775|\n",
            "|northwest|   yes|  26.6| 28.31| 31.92|\n",
            "|southeast|    no| 29.15| 33.33| 37.73|\n",
            "|southeast|   yes| 27.06| 33.11| 38.06|\n",
            "|southwest|    no|  26.7|  30.2|  34.5|\n",
            "|southwest|   yes|  27.6|  31.3|  34.8|\n",
            "+---------+------+------+------+------+\n",
            "\n"
          ]
        }
      ]
    },
    {
      "cell_type": "code",
      "source": [
        "bmi_region_smoker_pd = bmi_region_smoker_stats.toPandas()\n",
        "\n",
        "import matplotlib.pyplot as plt\n",
        "\n",
        "fig, ax = plt.subplots(figsize=(10, 6))\n",
        "\n",
        "bmi_region_smoker_pd.pivot(index='region', columns='smoker', values=['q1', 'median', 'q3']).plot(kind='bar', ax=ax)\n",
        "\n",
        "\n",
        "plt.title('BMI Distribution by Region and Smoking Status')\n",
        "plt.xlabel('Region')\n",
        "plt.ylabel('BMI')\n",
        "plt.legend(title='Smoker')\n",
        "\n",
        "plt.show()"
      ],
      "metadata": {
        "id": "z90LfH5AB4ua",
        "colab": {
          "base_uri": "https://localhost:8080/",
          "height": 621
        },
        "outputId": "8913f182-4b62-4c82-8426-4981d9be4a4b"
      },
      "execution_count": null,
      "outputs": [
        {
          "output_type": "display_data",
          "data": {
            "text/plain": [
              "<Figure size 1000x600 with 1 Axes>"
            ],
            "image/png": "[encoded data removed]"
          },
          "metadata": {}
        }
      ]
    },
    {
      "cell_type": "markdown",
      "source": [
        "The grouped bar plot presents BMI distribution across regions, separating smokers from non-smokers. It offers a straightforward comparison of BMI quartiles in each region and among different smoking groups. This visualization helps identify potential regional differences in BMI and the influence of smoking on BMI distribution, aiding in healthcare planning and targeted interventions."
      ],
      "metadata": {
        "id": "kajerqlARyeU"
      }
    },
    {
      "cell_type": "markdown",
      "source": [
        "## Predict Insurance Charges with Linear Regression"
      ],
      "metadata": {
        "id": "3b4rHu7uZGWl"
      }
    },
    {
      "cell_type": "markdown",
      "source": [],
      "metadata": {
        "id": "J3WLvXPzR56r"
      }
    },
    {
      "cell_type": "code",
      "source": [
        "from pyspark.ml import feature, evaluation, Pipeline\n",
        "from pyspark.ml.feature import StringIndexer, VectorAssembler, StandardScaler\n",
        "\n",
        "# Index categorical variables\n",
        "indexer_sex = StringIndexer(inputCol='sex', outputCol='sex_indexed')\n",
        "indexer_smoker = StringIndexer(inputCol='smoker', outputCol='smoker_indexed')\n",
        "indexer_region = StringIndexer(inputCol='region', outputCol='region_indexed')\n",
        "\n",
        "# Assemble all features into a single vector\n",
        "assembler = VectorAssembler(inputCols=['sex_indexed', 'bmi', 'children', 'smoker_indexed', 'region_indexed'],\n",
        "                            outputCol='features')\n",
        "\n",
        "\n",
        "# Create feature engineering pipeline\n",
        "fe_pipe = Pipeline(stages=[indexer_sex, indexer_smoker, indexer_region, assembler])\n",
        "\n",
        "# Apply the pipeline to the insurance dataset\n",
        "insurance_fe = fe_pipe.fit(insurance).transform(insurance)\n",
        "\n",
        "# Show the transformed dataset\n",
        "insurance_fe.show(5)"
      ],
      "metadata": {
        "id": "kOTM_HCban0T",
        "colab": {
          "base_uri": "https://localhost:8080/"
        },
        "outputId": "e017d01c-551c-4288-ad46-0b52fd5f537b"
      },
      "execution_count": null,
      "outputs": [
        {
          "output_type": "stream",
          "name": "stdout",
          "text": [
            "+---+------+------+--------+------+---------+-----------+-----------+--------------+--------------+--------------------+\n",
            "|age|   sex|   bmi|children|smoker|   region|    charges|sex_indexed|smoker_indexed|region_indexed|            features|\n",
            "+---+------+------+--------+------+---------+-----------+-----------+--------------+--------------+--------------------+\n",
            "| 19|female|  27.9|       0|   yes|southwest|  16884.924|        1.0|           1.0|           2.0|[1.0,27.9,0.0,1.0...|\n",
            "| 18|  male| 33.77|       1|    no|southeast|  1725.5523|        0.0|           0.0|           0.0|(5,[1,2],[33.77,1...|\n",
            "| 28|  male|  33.0|       3|    no|southeast|   4449.462|        0.0|           0.0|           0.0|(5,[1,2],[33.0,3.0])|\n",
            "| 33|  male|22.705|       0|    no|northwest|21984.47061|        0.0|           0.0|           1.0|(5,[1,4],[22.705,...|\n",
            "| 32|  male| 28.88|       0|    no|northwest|  3866.8552|        0.0|           0.0|           1.0|(5,[1,4],[28.88,1...|\n",
            "+---+------+------+--------+------+---------+-----------+-----------+--------------+--------------+--------------------+\n",
            "only showing top 5 rows\n",
            "\n"
          ]
        }
      ]
    },
    {
      "cell_type": "markdown",
      "source": [
        "Steps Explained\n",
        "\n",
        "1. Indexing Categorical Variables: StringIndexer converts categorical variables ('sex', 'smoker', 'region') into numerical indices. This is necessary because most machine learning algorithms require numerical inputs.\n",
        "\n",
        "2. Assembling Features: VectorAssembler combines all feature columns into a single vector. This is required by Spark's machine learning algorithms.\n",
        "\n",
        "3. Scaling Numerical Features: StandardScaler standardizes numerical features by subtracting the mean and dividing by the standard deviation. This ensures that all features are on a similar scale, preventing some features from dominating the model due to their larger magnitude.\n",
        "\n",
        "4. Pipeline: Finally, the pipeline defines the order of the aforementioned steps.\n",
        "\n"
      ],
      "metadata": {
        "id": "ge7pT7W8cKUf"
      }
    },
    {
      "cell_type": "code",
      "source": [
        "# do not modify\n",
        "display(insurance_fe.show(10))"
      ],
      "metadata": {
        "id": "ICKByX9Xb5ID",
        "colab": {
          "base_uri": "https://localhost:8080/",
          "height": 312
        },
        "outputId": "d9a46697-7183-4e21-d1f0-fbe92039ad72"
      },
      "execution_count": null,
      "outputs": [
        {
          "output_type": "stream",
          "name": "stdout",
          "text": [
            "+---+------+------+--------+------+---------+-----------+-----------+--------------+--------------+--------------------+\n",
            "|age|   sex|   bmi|children|smoker|   region|    charges|sex_indexed|smoker_indexed|region_indexed|            features|\n",
            "+---+------+------+--------+------+---------+-----------+-----------+--------------+--------------+--------------------+\n",
            "| 19|female|  27.9|       0|   yes|southwest|  16884.924|        1.0|           1.0|           2.0|[1.0,27.9,0.0,1.0...|\n",
            "| 18|  male| 33.77|       1|    no|southeast|  1725.5523|        0.0|           0.0|           0.0|(5,[1,2],[33.77,1...|\n",
            "| 28|  male|  33.0|       3|    no|southeast|   4449.462|        0.0|           0.0|           0.0|(5,[1,2],[33.0,3.0])|\n",
            "| 33|  male|22.705|       0|    no|northwest|21984.47061|        0.0|           0.0|           1.0|(5,[1,4],[22.705,...|\n",
            "| 32|  male| 28.88|       0|    no|northwest|  3866.8552|        0.0|           0.0|           1.0|(5,[1,4],[28.88,1...|\n",
            "| 31|female| 25.74|       0|    no|southeast|  3756.6216|        1.0|           0.0|           0.0|(5,[0,1],[1.0,25....|\n",
            "| 46|female| 33.44|       1|    no|southeast|  8240.5896|        1.0|           0.0|           0.0|[1.0,33.44,1.0,0....|\n",
            "| 37|female| 27.74|       3|    no|northwest|  7281.5056|        1.0|           0.0|           1.0|[1.0,27.74,3.0,0....|\n",
            "| 37|  male| 29.83|       2|    no|northeast|  6406.4107|        0.0|           0.0|           3.0|[0.0,29.83,2.0,0....|\n",
            "| 60|female| 25.84|       0|    no|northwest|28923.13692|        1.0|           0.0|           1.0|[1.0,25.84,0.0,0....|\n",
            "+---+------+------+--------+------+---------+-----------+-----------+--------------+--------------+--------------------+\n",
            "only showing top 10 rows\n",
            "\n"
          ]
        },
        {
          "output_type": "display_data",
          "data": {
            "text/plain": [
              "None"
            ]
          },
          "metadata": {}
        }
      ]
    },
    {
      "cell_type": "code",
      "source": [
        "#Pipeline after feature engineering.\n",
        "\n",
        "from pyspark.ml.regression import LinearRegression\n",
        "from pyspark.ml.evaluation import RegressionEvaluator\n",
        "\n",
        "lr = LinearRegression(featuresCol='features', labelCol='charges')\n",
        "\n",
        "# linear regression pipeline\n",
        "lr_pipe = Pipeline(stages=[fe_pipe, lr])\n",
        "\n",
        "# Split the data into train and test sets\n",
        "train_data, test_data = insurance.randomSplit([0.8, 0.2], seed=42)\n",
        "\n",
        "# Train the linear regression pipeline\n",
        "lr_model = lr_pipe.fit(train_data)\n",
        "\n",
        "# Make predictions on the test data\n",
        "predictions = lr_model.transform(test_data)\n",
        "\n",
        "# Evaluate the model using Mean Squared Error (MSE)\n",
        "evaluator = RegressionEvaluator(labelCol='charges', predictionCol='prediction', metricName='mse')\n",
        "lr_test_mse = evaluator.evaluate(predictions)\n",
        "print(\"Linear Regression Test MSE:\", lr_test_mse)"
      ],
      "metadata": {
        "id": "nUQ3prmKdB5C",
        "colab": {
          "base_uri": "https://localhost:8080/"
        },
        "outputId": "77b29d20-fb94-4712-f9c9-6ba2cfc4e228"
      },
      "execution_count": null,
      "outputs": [
        {
          "output_type": "stream",
          "name": "stdout",
          "text": [
            "Linear Regression Test MSE: 46995772.54339414\n"
          ]
        }
      ]
    },
    {
      "cell_type": "code",
      "source": [
        "# do not modify\n",
        "print(f'Linear regression test MSE: {lr_test_mse:.0f}')"
      ],
      "metadata": {
        "id": "YD4bi9ogiDqG",
        "colab": {
          "base_uri": "https://localhost:8080/"
        },
        "outputId": "b11fdf17-dff5-43d6-c18a-04a640fc6c73"
      },
      "execution_count": null,
      "outputs": [
        {
          "output_type": "stream",
          "name": "stdout",
          "text": [
            "Linear regression test MSE: 46995773\n"
          ]
        }
      ]
    },
    {
      "cell_type": "markdown",
      "source": [
        "Inference on the linear regression prediction model"
      ],
      "metadata": {
        "id": "Wr47ugN4ioAR"
      }
    },
    {
      "cell_type": "code",
      "source": [
        "scaler = StandardScaler(inputCol='features', outputCol='scaled_features', withStd=True, withMean=True)\n",
        "\n",
        "# Define Linear Regression model\n",
        "lr = LinearRegression(featuresCol='scaled_features', labelCol='charges')\n",
        "\n",
        "# Create linear regression pipeline\n",
        "lr_pipe_inf = Pipeline(stages=[fe_pipe, scaler, lr])\n",
        "\n",
        "# Split the data into train and test sets\n",
        "train_data, test_data = insurance.randomSplit([0.8, 0.2], seed=42)\n",
        "\n",
        "# Train the linear regression pipeline\n",
        "lr_model2 = lr_pipe_inf.fit(train_data)\n",
        "\n",
        "# Make predictions on the test data\n",
        "predictions = lr_model2.transform(test_data)\n",
        "\n",
        "# Evaluate the model using Mean Squared Error (MSE)\n",
        "evaluator = RegressionEvaluator(labelCol='charges', predictionCol='prediction', metricName='mse')\n",
        "lr_test_mse = evaluator.evaluate(predictions)\n",
        "print(\"Linear Regression Test MSE:\", lr_test_mse)"
      ],
      "metadata": {
        "id": "mpeV7_ypj6BS",
        "colab": {
          "base_uri": "https://localhost:8080/"
        },
        "outputId": "c584165a-5949-4380-dbf2-ec469e77393d"
      },
      "execution_count": null,
      "outputs": [
        {
          "output_type": "stream",
          "name": "stdout",
          "text": [
            "Linear Regression Test MSE: 46995772.54339439\n"
          ]
        }
      ]
    },
    {
      "cell_type": "markdown",
      "source": [
        "*The MSEs are equal in both models indicating that the scaling process didn't have an effect on the performance of the linear regression model in terms of MSE. This could because of how the features were naturally on a similar scale*"
      ],
      "metadata": {
        "id": "u0voh2uvrCH3"
      }
    },
    {
      "cell_type": "markdown",
      "source": [
        "## Classification of High/Low Charges with Logistic Regression"
      ],
      "metadata": {
        "id": "5vM531RJro5r"
      }
    },
    {
      "cell_type": "markdown",
      "source": [],
      "metadata": {
        "id": "YQWtWQxgr6lp"
      }
    },
    {
      "cell_type": "code",
      "source": [
        "# your code here\n",
        "\n",
        "from pyspark.sql.functions import when\n",
        "\n",
        "# Calculate the median of the charges column\n",
        "charges_median = insurance_fe.approxQuantile(\"charges\", [0.5], 0.01)[0]\n",
        "\n",
        "# Add the rate_pool column based on stratification\n",
        "insurance_stratified = insurance_fe.withColumn(\"rate_pool\",\n",
        "                                               when(insurance_fe[\"charges\"] > charges_median, 1).otherwise(0))\n",
        "\n",
        "# Show the resulting DataFrame\n",
        "insurance_stratified.show(5)"
      ],
      "metadata": {
        "id": "bX32Tdmps_Zw",
        "colab": {
          "base_uri": "https://localhost:8080/"
        },
        "outputId": "3ad9f8dc-19ae-493d-c988-774752152259"
      },
      "execution_count": null,
      "outputs": [
        {
          "output_type": "stream",
          "name": "stdout",
          "text": [
            "+---+------+------+--------+------+---------+-----------+-----------+--------------+--------------+--------------------+---------+\n",
            "|age|   sex|   bmi|children|smoker|   region|    charges|sex_indexed|smoker_indexed|region_indexed|            features|rate_pool|\n",
            "+---+------+------+--------+------+---------+-----------+-----------+--------------+--------------+--------------------+---------+\n",
            "| 19|female|  27.9|       0|   yes|southwest|  16884.924|        1.0|           1.0|           2.0|[1.0,27.9,0.0,1.0...|        1|\n",
            "| 18|  male| 33.77|       1|    no|southeast|  1725.5523|        0.0|           0.0|           0.0|(5,[1,2],[33.77,1...|        0|\n",
            "| 28|  male|  33.0|       3|    no|southeast|   4449.462|        0.0|           0.0|           0.0|(5,[1,2],[33.0,3.0])|        0|\n",
            "| 33|  male|22.705|       0|    no|northwest|21984.47061|        0.0|           0.0|           1.0|(5,[1,4],[22.705,...|        1|\n",
            "| 32|  male| 28.88|       0|    no|northwest|  3866.8552|        0.0|           0.0|           1.0|(5,[1,4],[28.88,1...|        0|\n",
            "+---+------+------+--------+------+---------+-----------+-----------+--------------+--------------+--------------------+---------+\n",
            "only showing top 5 rows\n",
            "\n"
          ]
        }
      ]
    },
    {
      "cell_type": "code",
      "source": [
        "# do not modify\n",
        "insurance_stratified.select('charges', 'rate_pool').show(10)"
      ],
      "metadata": {
        "id": "uFd-rb0duQWb",
        "colab": {
          "base_uri": "https://localhost:8080/"
        },
        "outputId": "d0d1d33e-dc89-414d-bf26-421efc2a7c1d"
      },
      "execution_count": null,
      "outputs": [
        {
          "output_type": "stream",
          "name": "stdout",
          "text": [
            "+-----------+---------+\n",
            "|    charges|rate_pool|\n",
            "+-----------+---------+\n",
            "|  16884.924|        1|\n",
            "|  1725.5523|        0|\n",
            "|   4449.462|        0|\n",
            "|21984.47061|        1|\n",
            "|  3866.8552|        0|\n",
            "|  3756.6216|        0|\n",
            "|  8240.5896|        0|\n",
            "|  7281.5056|        0|\n",
            "|  6406.4107|        0|\n",
            "|28923.13692|        1|\n",
            "+-----------+---------+\n",
            "only showing top 10 rows\n",
            "\n"
          ]
        }
      ]
    },
    {
      "cell_type": "markdown",
      "source": [
        "\n"
      ],
      "metadata": {
        "id": "Ez8ECJCeumOj"
      }
    },
    {
      "cell_type": "code",
      "source": [
        "from pyspark.ml.classification import LogisticRegression\n",
        "from pyspark.ml.evaluation import BinaryClassificationEvaluator\n",
        "from pyspark.ml.feature import VectorAssembler\n",
        "\n",
        "training, testing = insurance_stratified.randomSplit([0.5, 0.5], seed = 1870)\n",
        "\n",
        "# combine the input columns into a single vector\n",
        "va = VectorAssembler(inputCols=['sex_indexed', 'bmi', 'children', 'smoker_indexed', 'region_indexed'],\n",
        "                            outputCol='features2')\n",
        "\n",
        "# initialize the logistic regression model\n",
        "log_reg = LogisticRegression(featuresCol = 'features2',\n",
        "                             labelCol = 'rate_pool')\n",
        "\n",
        "# set up the pipeline\n",
        "log_reg_pipe = Pipeline(stages=[va, log_reg])\n",
        "\n",
        "# train the model\n",
        "log_reg_model = log_reg_pipe.fit(training)"
      ],
      "metadata": {
        "id": "1CkH_u_cOlHU"
      },
      "execution_count": null,
      "outputs": []
    },
    {
      "cell_type": "code",
      "source": [
        "predictions = log_reg_model.transform(testing)\n",
        "predictions.show(15)"
      ],
      "metadata": {
        "id": "bErHNtHDUUUR",
        "colab": {
          "base_uri": "https://localhost:8080/"
        },
        "outputId": "bf4e8211-a0b1-4dc3-f197-1e9ad57c1634"
      },
      "execution_count": null,
      "outputs": [
        {
          "output_type": "stream",
          "name": "stdout",
          "text": [
            "+---+------+------+--------+------+---------+-----------+-----------+--------------+--------------+--------------------+---------+--------------------+--------------------+--------------------+----------+\n",
            "|age|   sex|   bmi|children|smoker|   region|    charges|sex_indexed|smoker_indexed|region_indexed|            features|rate_pool|           features2|       rawPrediction|         probability|prediction|\n",
            "+---+------+------+--------+------+---------+-----------+-----------+--------------+--------------+--------------------+---------+--------------------+--------------------+--------------------+----------+\n",
            "| 18|female| 25.08|       0|    no|northeast|  2196.4732|        1.0|           0.0|           3.0|[1.0,25.08,0.0,0....|        0|[1.0,25.08,0.0,0....|[0.50235154173646...|[0.62301179289332...|       0.0|\n",
            "| 18|female|26.315|       0|    no|northeast| 2198.18985|        1.0|           0.0|           3.0|[1.0,26.315,0.0,0...|        0|[1.0,26.315,0.0,0...|[0.44637097893645...|[0.60977605604659...|       0.0|\n",
            "| 18|female| 26.73|       0|    no|southeast|  1615.7667|        1.0|           0.0|           0.0|(5,[0,1],[1.0,26....|        0|(5,[0,1],[1.0,26....|[1.10510669044970...|[0.75121572221393...|       0.0|\n",
            "| 18|female| 27.28|       3|   yes|southeast| 18223.4512|        1.0|           1.0|           0.0|[1.0,27.28,3.0,1....|        1|[1.0,27.28,3.0,1....|[-22.748208004096...|[1.32001476971237...|       1.0|\n",
            "| 18|female|28.215|       0|    no|northeast| 2200.83085|        1.0|           0.0|           3.0|[1.0,28.215,0.0,0...|        0|[1.0,28.215,0.0,0...|[0.36024703616720...|[0.58910023323293...|       0.0|\n",
            "| 18|female|30.115|       0|    no|northeast| 2203.47185|        1.0|           0.0|           3.0|[1.0,30.115,0.0,0...|        0|[1.0,30.115,0.0,0...|[0.27412309339795...|[0.56810483701896...|       0.0|\n",
            "| 18|female|30.305|       0|    no|northeast| 2203.73595|        1.0|           0.0|           3.0|[1.0,30.305,0.0,0...|        0|[1.0,30.305,0.0,0...|[0.26551069912103...|[0.56599045793884...|       0.0|\n",
            "| 18|female| 31.35|       0|    no|southeast|  1622.1885|        1.0|           0.0|           0.0|(5,[0,1],[1.0,31....|        0|(5,[0,1],[1.0,31....|[0.89568952434764...|[0.71006289373945...|       0.0|\n",
            "| 18|female| 31.35|       4|    no|northeast|  4561.1885|        1.0|           0.0|           3.0|[1.0,31.35,4.0,0....|        0|[1.0,31.35,4.0,0....|[-0.2122773878577...|[0.44712904197852...|       1.0|\n",
            "| 18|female| 31.92|       0|    no|northeast|  2205.9808|        1.0|           0.0|           3.0|[1.0,31.92,0.0,0....|        0|[1.0,31.92,0.0,0....|[0.19230534776717...|[0.54792872217635...|       0.0|\n",
            "| 18|female|33.155|       0|    no|northeast| 2207.69745|        1.0|           0.0|           3.0|[1.0,33.155,0.0,0...|        0|[1.0,33.155,0.0,0...|[0.13632478496716...|[0.53402851246741...|       0.0|\n",
            "| 18|female|35.625|       0|    no|northeast| 2211.13075|        1.0|           0.0|           3.0|[1.0,35.625,0.0,0...|        0|[1.0,35.625,0.0,0...|[0.02436365936714...|[0.50609061356855...|       0.0|\n",
            "| 18|female| 38.17|       0|    no|southeast|  1631.6683|        1.0|           0.0|           0.0|(5,[0,1],[1.0,38....|        0|(5,[0,1],[1.0,38....|[0.58654989819697...|[0.64257314117620...|       0.0|\n",
            "| 18|  male| 21.47|       0|    no|northeast|  1702.4553|        0.0|           0.0|           3.0|(5,[1,4],[21.47,3...|        0|(5,[1,4],[21.47,3...|[0.80899839398099...|[0.69189602707149...|       0.0|\n",
            "| 18|  male| 21.78|       2|    no|southeast|11884.04858|        0.0|           0.0|           0.0|(5,[1,2],[21.78,2...|        1|(5,[1,2],[21.78,2...|[1.25728362731419...|[0.77855814494946...|       0.0|\n",
            "+---+------+------+--------+------+---------+-----------+-----------+--------------+--------------+--------------------+---------+--------------------+--------------------+--------------------+----------+\n",
            "only showing top 15 rows\n",
            "\n"
          ]
        }
      ]
    },
    {
      "cell_type": "code",
      "source": [
        "evaluator = BinaryClassificationEvaluator(rawPredictionCol = 'rawPrediction',\n",
        "                                          labelCol = 'rate_pool')\n",
        "\n",
        "roc_auc_log_reg = evaluator.evaluate(predictions)\n",
        "\n",
        "print(f'Area Under ROC Curve for Logistic Regression: {roc_auc_log_reg:.2f}')"
      ],
      "metadata": {
        "id": "52IyM-LgUeN1",
        "colab": {
          "base_uri": "https://localhost:8080/"
        },
        "outputId": "073a545f-0806-4fec-9476-c491560d3059"
      },
      "execution_count": null,
      "outputs": [
        {
          "output_type": "stream",
          "name": "stdout",
          "text": [
            "Area Under ROC Curve for Logistic Regression: 0.73\n"
          ]
        }
      ]
    },
    {
      "cell_type": "code",
      "source": [],
      "metadata": {
        "id": "KTzA1jCkUZ7N"
      },
      "execution_count": null,
      "outputs": []
    },
    {
      "cell_type": "code",
      "source": [
        "import numpy as np\n",
        "import pandas as pd\n",
        "\n",
        "# Extract coefficients and intercept from the logistic regression model\n",
        "coefficients = log_reg_model.stages[-1].coefficients.toArray()\n",
        "intercept = log_reg_model.stages[-1].intercept\n",
        "\n",
        "# Extract feature names\n",
        "features = ['sex_indexed', 'bmi', 'children', 'smoker_indexed', 'region_indexed']\n",
        "\n",
        "# Create a DataFrame to store coefficients\n",
        "coefficients_df = pd.DataFrame({'feature2': features, 'coefficient': coefficients})\n",
        "\n",
        "# Print intercept and coefficients\n",
        "print(\"Intercept:\", intercept)\n",
        "print(\"Coefficients:\")\n",
        "print(coefficients_df)\n",
        "\n",
        "# Extract the first observation from the test data\n",
        "first_observation = testing.select('sex_indexed', 'bmi', 'children', 'smoker_indexed', 'region_indexed').head()\n",
        "\n",
        "# Calculate the linear combination of features and coefficients\n",
        "linear_combination = np.dot(coefficients, first_observation)\n",
        "\n",
        "# Calculate the probability of rate_pool being 1 (charged greater than median)\n",
        "probability_rate_pool_1 = np.exp(intercept + linear_combination) / (1 + np.exp(intercept + linear_combination))\n",
        "\n",
        "# Print the calculated probability\n",
        "print(\"Probability of rate_pool being 1 (charged greater than median):\", probability_rate_pool_1)\n",
        "\n"
      ],
      "metadata": {
        "id": "2OsEwLKPlaVV",
        "colab": {
          "base_uri": "https://localhost:8080/"
        },
        "outputId": "c366971d-b8eb-4854-8b49-deab534b77e0"
      },
      "execution_count": null,
      "outputs": [
        {
          "output_type": "stream",
          "name": "stdout",
          "text": [
            "Intercept: -2.459745941023183\n",
            "Coefficients:\n",
            "         feature2  coefficient\n",
            "0     sex_indexed     0.143011\n",
            "1             bmi     0.045328\n",
            "2        children     0.107605\n",
            "3  smoker_indexed    23.505569\n",
            "4  region_indexed     0.225849\n",
            "Probability of rate_pool being 1 (charged greater than median): 0.37698820710667497\n"
          ]
        }
      ]
    },
    {
      "cell_type": "code",
      "source": [
        "# linear combination of features and coefficients\n",
        "linear_combination = intercept + np.dot(coefficients, first_observation)\n",
        "\n",
        "# Apply the logistic function to obtain the probability\n",
        "probability = 1 / (1 + np.exp(-linear_combination))\n",
        "\n",
        "# Calculated probability\n",
        "print(\"Probability of rate_pool being 1:\", probability)\n",
        "\n",
        "# Make the prediction based on the probability\n",
        "prediction = 1 if probability >= 0.5 else 0\n",
        "\n",
        "# The prediction\n",
        "print(\"Prediction for rate_pool:\", prediction)\n",
        "\n"
      ],
      "metadata": {
        "id": "-6pPsoULfAmD",
        "colab": {
          "base_uri": "https://localhost:8080/"
        },
        "outputId": "f089e26c-d93c-461a-a8de-0bfedcfda163"
      },
      "execution_count": null,
      "outputs": [
        {
          "output_type": "stream",
          "name": "stdout",
          "text": [
            "Probability of rate_pool being 1: 0.37698820710667497\n",
            "Prediction for rate_pool: 0\n"
          ]
        }
      ]
    },
    {
      "cell_type": "code",
      "source": [
        "#No, the prediction is wrong. The actual value is 1."
      ],
      "metadata": {
        "id": "Sa9fjlRwfQlZ"
      },
      "execution_count": null,
      "outputs": []
    },
    {
      "cell_type": "markdown",
      "source": [],
      "metadata": {
        "id": "xO0a4e90fFmB"
      }
    }
  ]
}